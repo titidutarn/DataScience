{
 "cells": [
  {
   "cell_type": "markdown",
   "metadata": {},
   "source": [
    "https://www.springboard.com/blog/data-science-interview-questions/\n",
    "\n",
    "How do you deal with sparsity?\n",
    "LASSO and its variants (e.g. LASSO + Boosting) might be interesting.\n",
    "\n"
   ]
  },
  {
   "cell_type": "code",
   "execution_count": 1,
   "metadata": {},
   "outputs": [],
   "source": [
    "import warnings\n",
    "warnings.filterwarnings('ignore')"
   ]
  },
  {
   "cell_type": "code",
   "execution_count": 2,
   "metadata": {
    "hide_input": false
   },
   "outputs": [],
   "source": [
    "import math\n",
    "import pandas as pd \n",
    "import numpy as np\n",
    "import scipy.stats as st\n",
    "\n",
    "from sklearn.preprocessing import StandardScaler\n",
    "from sklearn.decomposition import PCA\n",
    "from sklearn import datasets\n",
    "\n",
    "import matplotlib.pyplot as plt"
   ]
  },
  {
   "cell_type": "markdown",
   "metadata": {},
   "source": [
    "# Proba"
   ]
  },
  {
   "cell_type": "markdown",
   "metadata": {},
   "source": [
    "#### Independence\n",
    "\n",
    "Two events A and B are independent $\\Leftrightarrow \\mathcal{P}(A\\cap B) = \\mathcal{P}(A) \\mathcal{P}(B)$\n",
    "\n",
    "#### Conditional\n",
    "\n",
    "For events A and B such that $\\mathcal{P}(B) \\neq 0$, we have:\n",
    "\n",
    "$\\displaystyle \\mathcal{P}(A\\mid B)={\\frac {\\mathcal{P}(A\\cap B)}{P(B)}} = \\frac{\\mathcal{P}(B\\mid A)\\mathcal{P}(A)}{\\mathcal{P}(B)}   $\n",
    "\n",
    "#### Law of total probability\n",
    "\n",
    "$\\displaystyle \\mathcal{P}(A)=\\sum _{n}\\mathcal{P}(A\\cap B_{n})$\n",
    "\n",
    "or, alternatively,\n",
    "\n",
    "$\\displaystyle \\mathcal{P}(A)=\\sum _{n}\\mathcal{P}(A\\mid B_{n})\\mathcal{P}(B_{n})$\n",
    "\n",
    "#### Inclusion–exclusion principle\n",
    "\n",
    "$\\displaystyle \\left|\\bigcup _{i=1}^{n}A_{i}\\right|=\\sum _{\\emptyset \\neq J\\subseteq \\{1,\\ldots ,n\\}}(-1)^{|J|+1}\\left|\\bigcap _{j\\in J}A_{j}\\right|$\n",
    "\n",
    "example: $|A\\cup B\\cup C|=|A|+|B|+|C|-|A\\cap B|-|A\\cap C|-|B\\cap C|+|A\\cap B\\cap C|$\n",
    "\n",
    "#### Union, Intersection and Complement\n",
    "\n",
    "$\\mathcal{P}(A\\cup B) = \\mathcal{P}(A) + \\mathcal{P}(B) - \\mathcal{P}(A\\cap B)$\n",
    "\n",
    "$\\displaystyle ({A\\cup B})^{C}=A^{C}\\cap B^{C}$\n",
    "\n",
    "$\\displaystyle ({A\\cap B})^{C}=A^{C}\\cup B^{C}$"
   ]
  },
  {
   "cell_type": "markdown",
   "metadata": {},
   "source": [
    "### Sampling\n",
    "\n",
    "$E$ a set of $n$ elements, $Card(\\mathcal{P}(E)) = 2^n$\n",
    "\n",
    "| Sampling  | Order matters | Order not matters |\n",
    "| ------------- | ------------- | ---------- |\n",
    "| With replacement  | $\\displaystyle n^k$  | $\\displaystyle \\binom{n+k-1}{k}$     |\n",
    "| Without replacement  | $\\displaystyle \\frac{n!}{(n-k)!}$  | $\\displaystyle \\binom{n}{k}$   |\n",
    "\n",
    "In particular, the number of **permutation** of a set of $n$ elements is a sample where order matters without replacement => $n!$\n",
    "\n",
    "\n",
    "Simple examples:\n",
    "- choose 4 balls in a 10-balls numbered box successively with replacement => $10^4$\n",
    "- choose 4 balls in a 10-balls numbered box successively without replacement => $\\displaystyle  \\frac{10!}{6!}$\n",
    "- choose 4 balls in a 10-balls box simultaneously => $\\displaystyle \\binom{10}{4}$\n",
    "\n",
    "\n",
    "Exercises:\n",
    "- Loto: pick 7 numbers out of 49\n",
    "- probability that at least 2 students have the same date of birth in a class of 30"
   ]
  },
  {
   "attachments": {},
   "cell_type": "markdown",
   "metadata": {},
   "source": [
    "### Usual Laws\n",
    "\n",
    "#### discrets\n",
    "\n",
    "<img src=\"pictures/law_discret.png\" alt=\"Drawing\" style=\"width: 600px;\"/>\n",
    "\n",
    "#### continus\n",
    "\n",
    "<img src=\"pictures/law_continus.png\" alt=\"Drawing\" style=\"width: 600px;\"/>"
   ]
  },
  {
   "cell_type": "markdown",
   "metadata": {},
   "source": [
    "## Brain teaser \n",
    "\n",
    "- 2 Heads 1 tail, split the pot 1/4\n",
    "- two children, one is a girl, proba the second is a girl ?\n",
    "- revolver\n",
    "- palantir\n",
    "- google\n"
   ]
  },
  {
   "cell_type": "markdown",
   "metadata": {},
   "source": [
    "# Stats"
   ]
  },
  {
   "cell_type": "markdown",
   "metadata": {},
   "source": [
    "TODO :\n",
    "- Monte carlo \n",
    "- Markov chain"
   ]
  },
  {
   "cell_type": "markdown",
   "metadata": {},
   "source": [
    "### Variance\n",
    "\n",
    "The variance of a random variable ${\\displaystyle X}$ is the expected value of the squared deviation from the mean of ${\\displaystyle X}$:\n",
    "\n",
    "${\\displaystyle \\operatorname {Var} (X)=\\operatorname {E} \\left[(X-\\operatorname {E} [X] )^{2}\\right]} = \\operatorname {E} [X^{2}]-\\operatorname {E} [X]^{2}$"
   ]
  },
  {
   "cell_type": "code",
   "execution_count": 32,
   "metadata": {},
   "outputs": [
    {
     "data": {
      "text/plain": [
       "0.0"
      ]
     },
     "execution_count": 32,
     "metadata": {},
     "output_type": "execute_result"
    }
   ],
   "source": [
    "np.var([1,1,1])"
   ]
  },
  {
   "cell_type": "code",
   "execution_count": 33,
   "metadata": {},
   "outputs": [
    {
     "data": {
      "text/plain": [
       "0.6666666666666666"
      ]
     },
     "execution_count": 33,
     "metadata": {},
     "output_type": "execute_result"
    }
   ],
   "source": [
    "np.var([0,1,2])"
   ]
  },
  {
   "cell_type": "markdown",
   "metadata": {},
   "source": [
    "### Covariance\n",
    "\n",
    "In probability theory and statistics, covariance is a measure of the joint variability of two random variables.\n",
    "\n",
    "If the greater values of one variable mainly correspond with the greater values of the other variable, and the same holds for the lesser values, (i.e., the variables tend to show similar behavior), the covariance is positive.\n",
    "\n",
    "In the opposite case, when the greater values of one variable mainly correspond to the lesser values of the other, (i.e., the variables tend to show opposite behavior), the covariance is negative. \n",
    "\n",
    "The sign of the covariance therefore shows the tendency in the linear relationship between the variables. \n",
    "\n",
    "The magnitude of the covariance is not easy to interpret because it is not normalized and hence depends on the magnitudes of the variables. \n",
    "\n",
    "The normalized version of the covariance, the correlation coefficient, however, shows by its magnitude the strength of the linear relation.\n",
    "\n",
    "${\\displaystyle \\operatorname {cov} (X,Y)=\\operatorname {E} {{\\big [}(X-\\operatorname {E} [X])(Y-\\operatorname {E} [Y]){\\big ]}}} = \\operatorname {E} \\left[XY\\right]-\\operatorname {E} \\left[X\\right]\\operatorname {E} \\left[Y\\right]\t$\n"
   ]
  },
  {
   "cell_type": "code",
   "execution_count": 37,
   "metadata": {},
   "outputs": [
    {
     "data": {
      "text/plain": [
       "array([[0., 0.],\n",
       "       [0., 1.]])"
      ]
     },
     "execution_count": 37,
     "metadata": {},
     "output_type": "execute_result"
    }
   ],
   "source": [
    "np.cov([1,1,1],[0,1,2])"
   ]
  },
  {
   "cell_type": "code",
   "execution_count": 38,
   "metadata": {},
   "outputs": [
    {
     "data": {
      "text/plain": [
       "array([[ 1., -1.],\n",
       "       [-1.,  1.]])"
      ]
     },
     "execution_count": 38,
     "metadata": {},
     "output_type": "execute_result"
    }
   ],
   "source": [
    "np.cov([2,1,0],[0,1,2])"
   ]
  },
  {
   "cell_type": "code",
   "execution_count": 39,
   "metadata": {},
   "outputs": [
    {
     "data": {
      "text/plain": [
       "array([[1., 1.],\n",
       "       [1., 1.]])"
      ]
     },
     "execution_count": 39,
     "metadata": {},
     "output_type": "execute_result"
    }
   ],
   "source": [
    "np.cov([0,1,2],[2,3,4])"
   ]
  },
  {
   "cell_type": "code",
   "execution_count": 40,
   "metadata": {},
   "outputs": [
    {
     "data": {
      "text/plain": [
       "array([[1.        , 1.5       ],\n",
       "       [1.5       , 2.33333333]])"
      ]
     },
     "execution_count": 40,
     "metadata": {},
     "output_type": "execute_result"
    }
   ],
   "source": [
    "np.cov([0,1,2],[2,3,5])"
   ]
  },
  {
   "cell_type": "markdown",
   "metadata": {},
   "source": [
    "### Pearson correlation coefficient\n",
    "\n",
    "Pearson correlation coefficient is a measure of the linear correlation between two variables X and Y. According to the Cauchy–Schwarz inequality it has a value between +1 and −1, where 1 is total positive linear correlation, 0 is no linear correlation, and −1 is total negative linear correlation.\n",
    "\n",
    "${\\displaystyle \\rho _{X,Y}={\\frac {\\operatorname {cov} (X,Y)}{\\sigma _{X}\\sigma _{Y}}}}$"
   ]
  },
  {
   "cell_type": "code",
   "execution_count": 42,
   "metadata": {},
   "outputs": [
    {
     "data": {
      "text/plain": [
       "array([[nan, nan],\n",
       "       [nan,  1.]])"
      ]
     },
     "execution_count": 42,
     "metadata": {},
     "output_type": "execute_result"
    }
   ],
   "source": [
    "np.corrcoef([1,1,1],[0,1,2])"
   ]
  },
  {
   "cell_type": "code",
   "execution_count": 43,
   "metadata": {},
   "outputs": [
    {
     "data": {
      "text/plain": [
       "array([[ 1., -1.],\n",
       "       [-1.,  1.]])"
      ]
     },
     "execution_count": 43,
     "metadata": {},
     "output_type": "execute_result"
    }
   ],
   "source": [
    "np.corrcoef([2,1,0],[0,1,2])"
   ]
  },
  {
   "cell_type": "code",
   "execution_count": 44,
   "metadata": {},
   "outputs": [
    {
     "data": {
      "text/plain": [
       "array([[1., 1.],\n",
       "       [1., 1.]])"
      ]
     },
     "execution_count": 44,
     "metadata": {},
     "output_type": "execute_result"
    }
   ],
   "source": [
    "np.corrcoef([0,1,2],[2,3,4])"
   ]
  },
  {
   "cell_type": "code",
   "execution_count": 46,
   "metadata": {
    "scrolled": true
   },
   "outputs": [
    {
     "data": {
      "text/plain": [
       "array([[1.        , 0.88968025],\n",
       "       [0.88968025, 1.        ]])"
      ]
     },
     "execution_count": 46,
     "metadata": {},
     "output_type": "execute_result"
    }
   ],
   "source": [
    "np.corrcoef([0,1,2],[2,3,20])"
   ]
  },
  {
   "cell_type": "markdown",
   "metadata": {},
   "source": [
    "### Cross-correlation\n",
    "\n",
    "Cross-correlation is somewhat a generalization of the correlation measure as it takes into account the lag of one signal relative to the other. If lag == 0, then correlation = cross-correlation."
   ]
  },
  {
   "cell_type": "markdown",
   "metadata": {},
   "source": [
    "### Spearman's rank correlation coefficient\n",
    "\n",
    "Spearman's rank correlation coefficient is a nonparametric measure of rank correlation (statistical dependence between the rankings of two variables). It assesses how well the relationship between two variables can be described using a monotonic function.\n",
    "\n",
    "For a sample of size n, the n raw scores ${\\displaystyle X_{i},Y_{i}}$ are converted to ranks ${\\displaystyle \\operatorname {rg} X_{i},\\operatorname {rg} Y_{i}}$, and $r_{s}$ is computed from:\n",
    "\n",
    "${\\displaystyle r_{s}=\\rho _{\\operatorname {rg} _{X},\\operatorname {rg} _{Y}}={\\frac {\\operatorname {cov} (\\operatorname {rg} _{X},\\operatorname {rg} _{Y})}{\\sigma _{\\operatorname {rg} _{X}}\\sigma _{\\operatorname {rg} _{Y}}}}}$\n",
    "\n",
    "where:\n",
    "- $\\rho $ denotes the usual Pearson correlation coefficient, but applied to the rank variables.\n",
    "- ${\\displaystyle \\operatorname {cov} (\\operatorname {rg} _{X},\\operatorname {rg} _{Y})}$ is the covariance of the rank variables.\n",
    "- ${\\displaystyle \\sigma _{\\operatorname {rg} _{X}}}{\\displaystyle \\sigma _{\\operatorname {rg} _{X}}}$ and ${\\displaystyle \\sigma}{\\displaystyle \\sigma }$ are the standard deviations of the rank variables."
   ]
  },
  {
   "cell_type": "code",
   "execution_count": 47,
   "metadata": {},
   "outputs": [
    {
     "name": "stdout",
     "output_type": "stream",
     "text": [
      "pearson : 0.8664578754912147\n",
      "SpearmanrResult(correlation=1.0, pvalue=0.0)\n"
     ]
    }
   ],
   "source": [
    "x = [1,2,3]\n",
    "y = [1,1000,1000000]\n",
    "print(\"pearson : {}\".format(pearson(x,y)))\n",
    "print(st.spearmanr(x,y))"
   ]
  },
  {
   "cell_type": "code",
   "execution_count": 48,
   "metadata": {},
   "outputs": [
    {
     "name": "stdout",
     "output_type": "stream",
     "text": [
      "pearson : 0.25203203390387025\n",
      "SpearmanrResult(correlation=0.9999999999999999, pvalue=0.0)\n"
     ]
    }
   ],
   "source": [
    "x = list(range(100))\n",
    "y = np.exp(x)                        \n",
    "print(\"pearson : {}\".format(pearson(x,y)))\n",
    "print(st.spearmanr(x,y))      "
   ]
  },
  {
   "cell_type": "markdown",
   "metadata": {},
   "source": [
    "### CLT\n",
    "\n",
    "The central limit theorem establishes that, when identical independent random variables are added, their normalized sum tends toward a normal distribution (informally a \"bell curve\") even if the original variables themselves are not normally distributed. \n",
    "\n",
    "Let ${X_1, …, X_n}$ be a random sample of size n—that is, a sequence of independent and identically distributed (i.i.d.) random variables drawn from a distribution of expected value given by µ and finite variance given by $\\sigma^2$. \n",
    "\n",
    "Suppose we are interested in the sample average ${\\displaystyle S_{n}={\\frac {X_{1}+\\cdots +X_{n}}{n}}}$\n",
    "of these random variables. \n",
    "\n",
    "By the law of large numbers, the sample averages converge in probability and almost surely to the expected value $\\mu$ as n → ∞. \n",
    "\n",
    "The classical central limit theorem describes the size and the distributional form of the stochastic fluctuations around the deterministic number $\\mu$ during this convergence: \n",
    "\n",
    "${\\displaystyle \\frac {\\left(S_{n}-\\mu \\right)} {\\sigma/\\sqrt {n} }\\ {\\xrightarrow {\\mathcal {L}}}\\ {\\mathcal {N}}(0 ,1).}$\n",
    "\n",
    "Use case: Suppose that we are interested in estimating the average height among all people. Collecting data for every person in the world is impossible. While we can’t obtain a height measurement from everyone in the population, we can still sample some people. The question now becomes, what can we say about the average height of the entire population given a single sample. The Central Limit Theorem addresses this question exactly."
   ]
  },
  {
   "cell_type": "markdown",
   "metadata": {},
   "source": [
    "### Sampling distribution\n",
    "\n",
    "Given a population has a mean $\\mu$ and a standard deviation $\\sigma$, a sample of it has:\n",
    "\n",
    "$\\operatorname {E} \\left[\\bar  x\\right] \\sim \\mu$\n",
    "\n",
    "$\\displaystyle \\sigma _{\\bar  x} \\sim {\\frac  {\\sigma }{{\\sqrt  {n}}}}$"
   ]
  },
  {
   "cell_type": "markdown",
   "metadata": {},
   "source": [
    "### Z-score\n",
    "\n",
    "$\\displaystyle \\mathcal{Z} = \\frac {\\operatorname {E} \\left[\\bar  x\\right] - \\mu}{\\sigma _\\bar  x} $\n",
    "\n",
    "$\\displaystyle \\mathcal{Z}$ can be expressed as the *number of standard deviation below the mean*"
   ]
  },
  {
   "cell_type": "code",
   "execution_count": 19,
   "metadata": {},
   "outputs": [
    {
     "data": {
      "image/png": "[encoded data removed]",
      "text/plain": [
       "<Figure size 432x288 with 1 Axes>"
      ]
     },
     "metadata": {
      "needs_background": "light"
     },
     "output_type": "display_data"
    }
   ],
   "source": [
    "l = [-3,1,2,3,6,9]\n",
    "Z = (np.mean(l) - 0) / (np.std(l)/math.sqrt(len(l)))\n",
    "\n",
    "mu = 0\n",
    "variance = 1\n",
    "sigma = math.sqrt(variance)\n",
    "x = np.linspace(mu - 3*sigma, mu + 3*sigma, 100)\n",
    "plt.plot(x, st.norm.pdf(x, mu, sigma))\n",
    "plt.axvline(Z,c=\"r\")\n",
    "plt.show()"
   ]
  },
  {
   "cell_type": "markdown",
   "metadata": {},
   "source": [
    "### Confidence interval\n",
    "\n",
    "$\\displaystyle CI = \\operatorname {E} \\left[\\bar x \\right] \\pm z^* \\sigma _{\\bar  x}  $\n",
    "\n",
    "Where:\n",
    "- $z^*$ is the value corresponding to the $\\alpha$ (confidence) quantile from the normal distribution ${\\mathcal {N}}(0 ,1)$\n",
    "- $\\displaystyle z^* \\sigma _{\\bar  x}$ can be expressed as the *margin of error*"
   ]
  },
  {
   "cell_type": "code",
   "execution_count": 20,
   "metadata": {},
   "outputs": [
    {
     "name": "stdout",
     "output_type": "stream",
     "text": [
      "1.959963984540054\n"
     ]
    },
    {
     "data": {
      "text/plain": [
       "0.975"
      ]
     },
     "execution_count": 20,
     "metadata": {},
     "output_type": "execute_result"
    }
   ],
   "source": [
    "quantile_2_tails = .95\n",
    "quantile_1_tail = (1+quantile_2_tails)/2\n",
    "z = st.norm.ppf(quantile_1_tail)\n",
    "print(z)\n",
    "st.norm.cdf(z)"
   ]
  },
  {
   "cell_type": "code",
   "execution_count": 21,
   "metadata": {},
   "outputs": [
    {
     "data": {
      "image/png": "[encoded data removed]",
      "text/plain": [
       "<Figure size 432x288 with 1 Axes>"
      ]
     },
     "metadata": {
      "needs_background": "light"
     },
     "output_type": "display_data"
    }
   ],
   "source": [
    "l = [-3,1,2,3,6,9]\n",
    "\n",
    "mean = np.mean(l)\n",
    "me = z*np.std(l)/math.sqrt(len(l))\n",
    "left = mean-me\n",
    "right = mean+me\n",
    "\n",
    "sigma = math.sqrt(variance)\n",
    "x = np.linspace(mean - 3*me, mean + 3*me, 100)\n",
    "plt.plot(x, st.norm.pdf(x, mean, 1))\n",
    "plt.axvline(left,c=\"r\")\n",
    "plt.axvline(right,c=\"r\")\n",
    "plt.show()"
   ]
  },
  {
   "cell_type": "markdown",
   "metadata": {},
   "source": [
    "### p-value\n",
    "\n",
    "In statistical hypothesis testing, the p-value or probability value is the probability of obtaining test results at least as extreme as the results actually observed during the test, assuming that the null hypothesis is correct.\n",
    "\n",
    "If the probability of obtaining a result as extreme as the one obtained, supposing that the null hypothesis were true, is lower than a pre-specified cut-off probability (for example, 5%), then the result is said to be statistically significant and the null hypothesis is rejected.\n",
    "\n",
    "$\\displaystyle p = \\mathcal{P} \\left(\\mathcal{Z}>z\\right) < \\alpha \n",
    "\\Leftrightarrow \\mathcal{Z} > z^*\n",
    "\\Longleftrightarrow \\frac {\\operatorname {E} \\left[\\bar  x\\right] - \\mu}{\\sigma _\\bar  x} > z^* $\n",
    "\n",
    "Where:\n",
    "- $z^*$ is the value corresponding to the $\\alpha$ (confidence) quantile from the normal distribution ${\\mathcal {N}}(0 ,1)$\n",
    "\n",
    "##### Example:\n",
    "\n",
    "A principal at a certain school claims that the students in his school are above average intelligence. A random sample of thirty students IQ scores have a mean score of 112. Is there sufficient evidence to support the principal’s claim? The mean population IQ is 100 with a standard deviation of 15.\n",
    "\n",
    "- H0: “the student of his school are not on average more intelligent”\n",
    "- H1: “the student of his school are on average more intelligent”"
   ]
  },
  {
   "cell_type": "code",
   "execution_count": 31,
   "metadata": {},
   "outputs": [
    {
     "data": {
      "text/plain": [
       "True"
      ]
     },
     "execution_count": 31,
     "metadata": {},
     "output_type": "execute_result"
    }
   ],
   "source": [
    "mu = 100\n",
    "mean_x_bar = 112\n",
    "SE = 15/math.sqrt(30)\n",
    "\n",
    "Z = (mean_x_bar-mu)/SE\n",
    "quantile = .95\n",
    "z = st.norm.ppf((1+quantile)/2)\n",
    "\n",
    "Z>z"
   ]
  },
  {
   "cell_type": "markdown",
   "metadata": {},
   "source": [
    "Hence, we reject the null hypothesis.\n",
    "\n",
    "Two-sided / one sided:\n",
    "\n",
    "<img src=\"pictures/CI.png\" alt=\"Drawing\" style=\"width: 600px;\"/>"
   ]
  },
  {
   "cell_type": "markdown",
   "metadata": {},
   "source": [
    "### Type of errors"
   ]
  },
  {
   "attachments": {},
   "cell_type": "markdown",
   "metadata": {},
   "source": [
    "<img src=\"pictures/errortypes.png\" alt=\"Drawing\" style=\"width: 400px;\"/>"
   ]
  },
  {
   "cell_type": "markdown",
   "metadata": {},
   "source": [
    "### p-value vs z-test\n",
    "\n",
    "𝑝-value indicates how unlikely the statistic is. \n",
    "\n",
    "𝑧-score indicates how far away from the mean it is. \n",
    "\n",
    "There may be a difference between them, depending on the sample size:\n",
    "- for large samples, even small deviations from the mean become unlikely. I.e. the 𝑝-value may be very small even for a low 𝑧-score. \n",
    "- conversely, for small samples even large deviations are not unlikely. I.e. a large 𝑧-score will not necessarily mean a small 𝑝-value."
   ]
  },
  {
   "cell_type": "markdown",
   "metadata": {},
   "source": [
    "### t-test vs z-test\n",
    "\n",
    "Like z-tests, t-tests are calculations used to test a hypothesis, but they are most useful when we need to determine if there is a statistically significant difference between two independent sample groups. In other words, a t-test asks whether a difference between the means of two groups is unlikely to have occurred because of random chance. Usually, t-tests are most appropriate when dealing with problems with a limited sample size (n < 30).\n",
    "\n",
    "$\\displaystyle t = \\frac {\\left(x_1 — x_2\\right)} {\\left(\\frac{\\sigma} {\\sqrt{n_1}} + \\frac{\\sigma} {\\sqrt{n_2}}\\right)}$\n",
    "\n",
    "Where:\n",
    "- $x_1$ = mean of sample 1\n",
    "- $x_2$ = mean of sample 2\n",
    "- $n_1$ = size of sample 1\n",
    "- $n_2$ = size of sample 2"
   ]
  },
  {
   "cell_type": "markdown",
   "metadata": {},
   "source": [
    "### Test Comparison\n",
    "\n",
    "𝑧-test. A 𝑧-test assumes that our observations are independently drawn from a Normal distribution with unknown mean and known variance. A 𝑧-test is used primarily when we have quantitative data. (i.e. weights of rodents, ages of individuals, systolic blood pressure, etc.) However, 𝑧-tests can also be used when interested in proportions. (i.e. the proportion of people who get at least eight hours of sleep, etc.)\n",
    "\n",
    "𝑡-test. A 𝑡-test assumes that our observations are independently drawn from a Normal distribution with unknown mean and unknown variance. Note that with a 𝑡-test, we do not know the population variance. This is far more common than knowing the population variance, so a 𝑡-test is generally more appropriate than a 𝑧-test, but practically there will be little difference between the two if sample sizes are large.\n",
    "\n",
    "With 𝑧- and 𝑡-tests, your alternative hypothesis will be that your population mean (or population proportion) of one group is either not equal, less than, or greater than the population mean (or proportion) or the other group. This will depend on the type of analysis you seek to do, but your null and alternative hypotheses directly compare the means/proportions from the two groups.\n",
    "\n",
    "Chi-squared test. Whereas 𝑧- and 𝑡-tests concern quantitative data (or proportions in the case of 𝑧), chi-squared tests are appropriate for qualitative data. Again, the assumption is that observations are independent of one another. In this case, you aren't seeking a particular relationship. Your null hypothesis is that no relationship exists between variable one and variable two. Your alternative hypothesis is that a relationship does exist. This doesn't give you specifics as to how this relationship exists (i.e. In which direction does the relationship go) but it will provide evidence that a relationship does (or does not) exist between your independent variable and your groups.\n",
    "\n",
    "Fisher's exact test. One drawback to the chi-squared test is that it is asymptotic. This means that the 𝑝-value is accurate for very large sample sizes. However, if your sample sizes are small, then the 𝑝-value may not be quite accurate. As such, Fisher's exact test allows you to exactly calculate the 𝑝-value of your data and not rely on approximations that will be poor if your sample sizes are small.\n",
    "\n",
    "<img src=\"pictures/hyptest.png\" alt=\"Drawing\" style=\"width: 600px;\"/>"
   ]
  },
  {
   "attachments": {},
   "cell_type": "markdown",
   "metadata": {},
   "source": [
    "### ANOVA\n",
    "\n",
    "<img src=\"pictures/ftest.png\" alt=\"Drawing\" style=\"width: 600px;\"/>"
   ]
  },
  {
   "cell_type": "markdown",
   "metadata": {
    "heading_collapsed": true
   },
   "source": [
    "# Unsupervised Learning"
   ]
  },
  {
   "cell_type": "markdown",
   "metadata": {
    "hidden": true
   },
   "source": [
    "### Kmeans / dendrogram / elbow method\n",
    "\n",
    "- Assignment step: Assign each observation to the cluster whose mean has the least squared Euclidean distance, this is intuitively the \"nearest\" mean\n",
    "- Update step: Calculate the new means (centroids) of the observations in the new clusters.\n",
    "\n",
    "The Forgy method randomly chooses k observations from the dataset and uses these as the initial means. The Random Partition method first randomly assigns a cluster to each observation and then proceeds to the update step, thus computing the initial mean to be the centroid of the cluster's randomly assigned points."
   ]
  },
  {
   "cell_type": "markdown",
   "metadata": {
    "hidden": true
   },
   "source": [
    "## PCA\n",
    "\n",
    "### Definition\n",
    "\n",
    "Principal component analysis (PCA) is a statistical procedure that uses an orthogonal transformation to convert a set of observations of possibly correlated variables (entities each of which takes on various numerical values) into a set of values of linearly uncorrelated variables called principal components. \n",
    "\n",
    "This transformation is defined in such a way that the first principal component has the largest possible variance (that is, accounts for as much of the variability in the data as possible), and each succeeding component in turn has the highest variance possible under the constraint that it is orthogonal to the preceding components. \n",
    "\n",
    "The resulting vectors (each being a linear combination of the variables and containing n observations) are an uncorrelated orthogonal basis set. PCA is sensitive to the relative scaling of the original variables.\n",
    "\n",
    "1. The PCs are essentially the linear combinations of the original variables.\n",
    "2. The PCs are orthogonal.\n",
    "3. The least important PCs are also sometimes useful in regression, outlier detection, etc.\n",
    "\n",
    "### Calculation\n",
    "\n",
    "1. Normalize the data\n",
    "\n",
    "2. Calculate the covariance matrix\n",
    "\n",
    "3. Calculate the eigenvalues and eigenvectors of the covariance matrix\n",
    "\n",
    "4. Choosing components and forming a feature vector:\n",
    "\n",
    "We order the eigenvalues from largest to smallest so that it gives us the components in order or significance. Here comes the dimensionality reduction part. If we have a dataset with n variables, then we have the corresponding n eigenvalues and eigenvectors. It turns out that the eigenvector corresponding to the highest eigenvalue is the principal component of the dataset and it is our call as to how many eigenvalues we choose to proceed our analysis with. To reduce the dimensions, we choose the first p eigenvalues and ignore the rest. We do lose out some information in the process, but if the eigenvalues are small, we do not lose much.\n",
    "\n",
    "Next we form a feature vector which is a matrix of vectors, in our case, the eigenvectors. In fact, only those eigenvectors which we want to proceed with. Since we just have 2 dimensions in the running example, we can either choose the one corresponding to the greater eigenvalue or simply take both.\n",
    "\n",
    "$Feature Vector = (eig1, eig2)$\n",
    "\n",
    "5. Forming Principal Components:\n",
    "\n",
    "We take the transpose of the feature vector and left-multiply it with the transpose of scaled version of original dataset.\n",
    "\n",
    "$NewData = FeatureVector^T x ScaledData^T$"
   ]
  },
  {
   "cell_type": "code",
   "execution_count": null,
   "metadata": {
    "hidden": true
   },
   "outputs": [],
   "source": [
    "# Load Digits Data And Make Sparse\n",
    "digits = datasets.load_digits()\n",
    "# Standardize the feature matrix\n",
    "X = StandardScaler().fit_transform(digits.data)\n",
    "# Create a PCA with 2 components\n",
    "pca = PCA(n_components=2, whiten=True)\n",
    "# Conduct PCA\n",
    "X_pca = pca.fit_transform(X)\n",
    "print()\n",
    "# Show results\n",
    "print('Original number of features:', X.shape[1])\n",
    "print('Reduced number of features:', X_pca.shape[1])\n",
    "print('Variance retained:', pca.explained_variance_ratio_)\n",
    "\n",
    "plt.figure(figsize=(20,10))\n",
    "plt.scatter(X_pca[:, 0], X_pca[:, 1],\n",
    "            c=digits.target, edgecolor='none', alpha=0.5,\n",
    "            cmap=plt.cm.get_cmap('rainbow', 10))\n",
    "plt.xlabel('component 1')\n",
    "plt.ylabel('component 2')\n",
    "plt.colorbar();"
   ]
  },
  {
   "cell_type": "code",
   "execution_count": null,
   "metadata": {
    "hidden": true
   },
   "outputs": [],
   "source": [
    "pca = PCA().fit(digits.data)\n",
    "plt.plot(np.cumsum(pca.explained_variance_ratio_))\n",
    "plt.xlabel('number of components')\n",
    "plt.ylabel('cumulative explained variance');"
   ]
  },
  {
   "cell_type": "markdown",
   "metadata": {},
   "source": [
    "# Supervised learning"
   ]
  },
  {
   "cell_type": "markdown",
   "metadata": {},
   "source": [
    "## Generalities "
   ]
  },
  {
   "cell_type": "markdown",
   "metadata": {},
   "source": [
    "<img src=\"pictures/biasvar.png\" alt=\"Drawing\" style=\"width: 600px;\"/>"
   ]
  },
  {
   "attachments": {},
   "cell_type": "markdown",
   "metadata": {},
   "source": [
    "### Metrics\n",
    "\n",
    "- Mean Absolute Error is the average of the difference between the Original Values and the Predicted Values. It gives us the measure of how far the predictions were from the actual output. However, they don’t gives us any idea of the direction of the error i.e. whether we are under predicting the data or over predicting the data. Mathematically, it is represented as :\n",
    "\n",
    "$\\displaystyle \\operatorname {MAE} ={\\frac {1}{n}}\\sum _{i=1}^{n}|Y_{i}-{\\hat {Y_{i}}}|$\n",
    "\n",
    "- Mean Squared Error(MSE): is quite similar to Mean Absolute Error, the only difference being that MSE takes the average of the square of the difference between the original values and the predicted values. The advantage of MSE being that it is easier to compute the gradient, whereas Mean Absolute Error requires complicated linear programming tools to compute the gradient. As, we take square of the error, the effect of larger errors become more pronounced then smaller error, hence the model can now focus more on the larger errors.\n",
    "\n",
    "$\\displaystyle \\operatorname {MSE} ={\\frac {1}{n}}\\sum _{i=1}^{n}(Y_{i}-{\\hat {Y_{i}}})^{2}$\n",
    "\n",
    "- accuracy: It is the ratio of number of correct predictions to the total number of input samples.\n",
    "\n",
    "$\\displaystyle accuracy = \\frac{TP+FP}{TOT}$\n",
    "\n",
    "- Precision : It is the number of correct positive results divided by the number of positive results predicted by the classifier.\n",
    "\n",
    "$\\displaystyle precision = \\frac{TP}{TP+FP}$\n",
    "\n",
    "- Recall or Sensitivity or TPR: It is the number of correct positive results divided by the number of all relevant samples (all samples that should have been identified as positive). e.g. email spam\n",
    "\n",
    "$\\displaystyle recall = \\frac{TP}{TP+FN}$\n",
    "\n",
    "- False Positive Rate: False Positive Rate corresponds to the proportion of negative data points that are mistakenly considered as positive, with respect to all negative data points. e.g. cancer\n",
    "\n",
    "$\\displaystyle FPR = \\frac{FP}{TN+FP} = 1-Specificity$\n",
    "\n",
    "- F1 Score is the Harmonic Mean between precision and recall. The range for F1 Score is [0, 1]. It tells you how precise your classifier is (how many instances it classifies correctly), as well as how robust it is (it does not miss a significant number of instances).\n",
    "High precision but lower recall, gives you an extremely accurate, but it then misses a large number of instances that are difficult to classify. The greater the F1 Score, the better is the performance of our model. Mathematically, it can be expressed as :\n",
    "\n",
    "$\\displaystyle F1 = \\frac{2}{\\frac{1}{precision}+\\frac{1}{recall}}$\n",
    "\n",
    "- Area Under Curve(AUC) is one of the most widely used metrics for evaluation. It is used for binary classification problem. AUC of a classifier is equal to the probability that the classifier will rank a randomly chosen positive example higher than a randomly chosen negative example.\n",
    "\n",
    "<img src=\"pictures/roc.png\" alt=\"Drawing\" style=\"width: 1000px;\"/>\n",
    "\n",
    "- Logarithmic Loss or Log Loss, works by penalising the false classifications. Accuracy is the count of predictions where your predicted value equals the actual value. Accuracy is not always a good indicator because of its yes or no nature. Log Loss takes into account the uncertainty of your prediction based on how much it varies from the actual label. This gives us a more nuanced view into the performance of our model. Log-loss values [0,+inf[, objective 0.\n",
    "\n",
    "\n",
    "<h1><center>$-{(y\\log(p) + (1 - y)\\log(1 - p))}$</center></h1>\n",
    "\n",
    "Example:\n",
    "- label = 1 and predicted probability of .25: $-{\\log(.25)}$\n",
    "- label = 0 and predicted probability of .25: $-{\\log(0.75)}$\n",
    "\n",
    "<img src=\"pictures/logloss1.png\" alt=\"Drawing\" style=\"width: 600px;\"/>\n",
    "\n",
    "<img src=\"pictures/logloss2.png\" alt=\"Drawing\" style=\"width: 600px;\"/>"
   ]
  },
  {
   "cell_type": "markdown",
   "metadata": {},
   "source": [
    "### bagging / boosting / stacking\n",
    "\n",
    "- Bootstrapping: Let’s begin by defining bootstrapping. This statistical technique consists in generating samples of size B (called bootstrap samples) from an initial dataset of size N by randomly drawing with replacement B observations.\n",
    "\n",
    "<img src=\"pictures/bootstrap.png\" alt=\"Drawing\" style=\"width: 400px;\"/>\n",
    "\n",
    "- Bagging: First, we create multiple bootstrap samples so that each new bootstrap sample will act as another (almost) independent dataset drawn from true distribution. Then, we can fit a weak learner for each of these samples and finally aggregate them such that we kind of “average” their outputs and, so, obtain an ensemble model with less variance that its components. Roughly speaking, as the bootstrap samples are approximatively independent and identically distributed (i.i.d.), so are the learned base models. Then, “averaging” weak learners outputs do not change the expected answer but reduce its variance (just like averaging i.i.d. random variables preserve expected value but reduce variance).\n",
    "\n",
    "\n",
    "- Boosting: each model in the sequence is fitted giving more importance to observations in the dataset that were badly handled by the previous models in the sequence. Intuitively, each new model focus its efforts on the most difficult observations to fit up to now, so that we obtain, at the end of the process, a strong learner with lower bias (even if we can notice that boosting can also have the effect of reducing variance). The final result is the weigthed (how well they performed) average of the learners.\n",
    "\n",
    "<img src=\"pictures/bagboo1.png\" alt=\"Drawing\" style=\"width: 600px;\"/>\n",
    "\n",
    "<img src=\"pictures/bagboo2.png\" alt=\"Drawing\" style=\"width: 600px;\"/>\n",
    "\n",
    "\n",
    "- Stacking: the predict proba outputs of every models becomes the feature of a new dataset on which you apply a new model (Logistic Regression generally or heuristic)."
   ]
  },
  {
   "cell_type": "markdown",
   "metadata": {
    "heading_collapsed": true
   },
   "source": [
    "### Gradient\n",
    "\n",
    "<img src=\"pictures/learningrate.png\" alt=\"Drawing\" style=\"width: 400px;\"/>\n",
    "\n",
    "Help gradient descent:\n",
    "- feature scale\n",
    "- mean normalization: $x = x - \\mu$"
   ]
  },
  {
   "cell_type": "markdown",
   "metadata": {},
   "source": [
    "## Algorithms\n",
    "\n",
    "TODO:\n",
    "- bayesian method\n",
    "\n",
    "\n",
    "- support vector machine\n",
    "- decision tree\n",
    "- Naive Bayes"
   ]
  },
  {
   "cell_type": "markdown",
   "metadata": {},
   "source": [
    "### KNN\n",
    "\n",
    "- In k-NN classification, the output is a class membership. An object is classified by a plurality vote of its neighbors, with the object being assigned to the class most common among its k nearest neighbors (k is a positive integer, typically small). If k = 1, then the object is simply assigned to the class of that single nearest neighbor.\n",
    "\n",
    "<img src=\"pictures/knn_c.png\" alt=\"Drawing\" style=\"width: 400px;\"/>\n",
    "\n",
    "- In k-NN regression, the output is the property value for the object. This value is the average of the values of k nearest neighbors.\n",
    "\n",
    "\n",
    "How is k-NN different from k-means clustering?\n",
    "\n",
    "k-NN, or k-nearest neighbors is a classification algorithm, where the k is an integer describing the number of neighboring data points that influence the classification of a given observation. K-means is a clustering algorithm, where the k is an integer describing the number of clusters to be created from the given data."
   ]
  },
  {
   "cell_type": "markdown",
   "metadata": {},
   "source": [
    "## Linear Regression\n",
    "\n",
    "- $n$: number of features\n",
    "- $x^i$: ith example\n",
    "- $x_j^i$: jth feature of the ith example\n",
    "\n",
    "<h1><center>$\\large h_\\theta(x)=\\theta^T x$</center></h1>\n",
    "\n",
    "where: \n",
    "- $\\theta \\in {\\rm I\\!R}^{n+1}$\n",
    "- $x \\in {\\rm I\\!R}^{n+1}$ with $x_0^i=0$\n",
    "\n",
    "<h1><center>$ \\displaystyle J(\\theta) = \\frac{1}{m} \\sum_{i=1}^{m} (y^i-h_\\theta(x^i))^2$</center></h1>\n",
    "\n",
    "Repeat until converge: \n",
    "<h1><center>$ \\displaystyle \\theta_j = \\theta_j -\\alpha \\frac{\\partial J(\\theta)}{\\partial \\theta_j}\n",
    "    = \\theta_j -\\frac{\\alpha}{m} \\sum_{i=1}^{m} (y^i-h_\\theta(x^i))x^i_j\n",
    "$</center></h1>\n",
    "\n",
    "- analytical solution: normal equation\n",
    "- polynomial regression: add power of x as features"
   ]
  },
  {
   "cell_type": "markdown",
   "metadata": {},
   "source": [
    "## Logistic Regression\n",
    "\n",
    "<h1><center>$\\displaystyle \\sigma (t)={\\frac {1}{1+e^{-t}}}$</center></h1>\n",
    "\n",
    "<h1><center>$\\displaystyle h_{\\theta }(X)={\\frac {1}{1+e^{-\\theta ^{T}X}}}=\\Pr(Y=1\\mid X;\\theta )$</center></h1>\n",
    "\n",
    "<h1><center>$ \\displaystyle l(\\theta) = \\sum_{i=1}^{m} y^i \\log(h_\\theta(x^i)) + (1-y^i) \\log(1-h_\\theta(x^i)) $</center></h1>\n",
    "\n",
    "Repeat ($l(\\theta)$ to maximize): \n",
    "\n",
    "<h1><center>$ \\displaystyle \\theta_j = \\theta_j + \\alpha \\frac{\\partial l(\\theta)}{\\partial \\theta_j}\n",
    "    = \\theta_j + \\alpha (y^i-h_\\theta(x^i))x^i_j\n",
    "$</center></h1>\n",
    "\n",
    "Regularisation:\n",
    "- Lasso : L1 $ \\displaystyle \\Longrightarrow l(\\theta) + \\lambda \\sum_{j=1}^{m} \\left| \\theta_j \\right|$\n",
    "- Ridge : L2 $ \\displaystyle \\Longrightarrow l(\\theta) + \\lambda \\sum_{j=1}^{m} \\theta_j^2$\n",
    "- Elastic Net: combinaison of both\n",
    "\n",
    "<img src=\"pictures/ridgelasso.png\" alt=\"Drawing\" style=\"width: 600px;\"/>\n",
    "\n",
    " In the ridge, the coefficients of the linear transformation are normal distributed and in the lasso they are Laplace distributed. In the lasso, this makes it easier for the coefficients to be zero and therefore easier to eliminate some of your input variable as not contributing to the output."
   ]
  },
  {
   "cell_type": "markdown",
   "metadata": {
    "heading_collapsed": true
   },
   "source": [
    "## Neural network"
   ]
  },
  {
   "cell_type": "markdown",
   "metadata": {
    "hidden": true
   },
   "source": [
    "### Implementation\n",
    "\n",
    "#### 0. intialisation :\n",
    "\n",
    "W -> matrix random but small\n",
    "\n",
    "b -> vector zeros\n",
    "\n",
    "#### 1. forward propagation :\n",
    "\n",
    "⁃ linaire: $Z[l] = W[l] * A[l-1] + b[l]$ with $A[0] = X$\n",
    "\n",
    "⁃ activation function g: $A[l] = g( Z[l] )$\n",
    "\n",
    "- output: $A[l]$ and cache Z[l]\n",
    "\n",
    "<img src=\"pictures/forwardprop.png\" alt=\"Drawing\" style=\"width: 400px;\"/>\n",
    "\n",
    "#### 2. compute cost :\n",
    "\n",
    "several cost function possible but beware of convexity !!\n",
    "\n",
    "<h1><center>$ \\displaystyle - \\frac{1}{m} (Y \\log(A[L]).T + (1-Y) \\log( 1 - A[L] ).T ) $</center></h1>\n",
    "\n",
    "With A[L] output layer\n",
    "\n",
    "#### 3. backward propagation :\n",
    "\n",
    "- Activation backward : $dZ[l] = dA[l] * g_l’( Z[l] )$\n",
    "- Linear backward : calcul $dW[l]$, $db[l]$ $\\Rightarrow{A[l-1]}$\n",
    "\n",
    "<img src=\"pictures/backwardprop.png\" alt=\"Drawing\" style=\"width: 600px;\"/>\n",
    "\n",
    "#### 4. update_param :\n",
    "parameters -= alpha*grad with parameters = W,b\n",
    "\n",
    "#### model :\n",
    "reiter all steps on n_iter"
   ]
  },
  {
   "cell_type": "markdown",
   "metadata": {
    "hidden": true
   },
   "source": [
    "### Parameters vs Hyperparameters\n",
    "\n",
    "Main parameters of the NN is $W$ and $b$.\n",
    "\n",
    "Hyper parameters (parameters that control the algorithm) are like:\n",
    "- Learning rate.\n",
    "- Number of iteration.\n",
    "- Number of hidden layers L.\n",
    "- Number of hidden units n.\n",
    "- Choice of activation functions.\n"
   ]
  },
  {
   "cell_type": "markdown",
   "metadata": {
    "hidden": true
   },
   "source": [
    "### Activation functions\n",
    "\n",
    "<table><tr>\n",
    "<td> <img src=\"pictures/activationfct.png\" alt=\"Drawing\" style=\"width: 400px;\"/></td>\n",
    "<td> <img src=\"pictures/activationfct2.png\" alt=\"Drawing\" style=\"width: 400px;\"/></td>\n",
    "</tr></table>\n",
    "\n",
    "Activation functions are used to introduce non-linearities in the linear output of the type w * x + b in a neural network.\n",
    "\n",
    "Sigmoid and tanh should not be used as activation function for the hidden layer. This is because of the vanishing gradient problem, i.e., if your input is on a higher side (where sigmoid goes flat) then the gradient will be near zero. This will cause very slow or no learning during backpropagation as weights will be updated with really small values. The best function for hidden layers is thus ReLu, although, the dead neurons may happen if you use ReLU non-linarity, which is called dying ReLU.\n",
    "\n",
    "- for binary classification : relu -> relu -> … -> sigmoid\n",
    "- for multi class classification : relu -> relu -> … -> softmax\n",
    "- for regression : relu -> relu -> … -> linear"
   ]
  },
  {
   "cell_type": "markdown",
   "metadata": {
    "hidden": true
   },
   "source": [
    "### Regularization\n",
    "\n",
    "- dropout regularization : randomly turns off neurons\n",
    "- vanishing/explode gradient (for deep network) -> xavier initialisation \n",
    "- early stopping: J still decreases but the prediction is worse"
   ]
  },
  {
   "cell_type": "markdown",
   "metadata": {
    "hidden": true
   },
   "source": [
    "### Model Optimizers\n",
    "\n",
    "The optimizer is a search technique, which is used to update weights in the model.\n",
    "\n",
    "- mini-batch gradient: for big data set, splits the dataset in batch and update weights at the end of the batch within an iteration\n",
    "- learning rate decay\n",
    "- SGD: Stochastic Gradient Descent and how to address problems like getting stuck in a local minima or a saddle point. \n",
    "- RMSprop: Adaptive learning rate optimization method.\n",
    "- Adam: Adaptive Moment Estimation (Adam) that also uses adaptive learning rates."
   ]
  },
  {
   "cell_type": "markdown",
   "metadata": {
    "hidden": true
   },
   "source": [
    "### Types of neural networks\n",
    "\n",
    "- Standard NN (Useful for Structured data)\n",
    "- CNN or convolutional neural networks (Useful in computer vision)\n",
    "- RNN or Recurrent neural networks (Useful in Speech recognition or NLP)\n",
    "\n",
    "RNNs (recurrent neural networks) are made up of one node. It is fed data then outputs aresult back into itself, and continues to do this. Breakthroughs like LSTM (long short termmemory) make it smart at remembering things that have happened in the past and findingpatterns across time to make its next guesses make sense.\n",
    "\n",
    "CNNs (convolutional neural networks) essentially have three parts, convolution layers, pooling layers, and fully-connected layers. It usually takes a 2D (sometimes moredimensions) matrix and outputs a result.\n",
    "\n",
    "Convolution starts at the top left and takes a small window with a certain width and heightand performs an operation on that, the operation is usually a matrix multiplication where thematrix to multiply by is decided via gradient descent to get the best final results. It then moves according to a stride parameter and does the same. It does this all the way across the image and outputs a new image. \n",
    "\n",
    "Pooling is similar in the sense that it breaks the image down using small windows; however,the operation it runs on this small window is usually (average, max, or min) to combine thesmall window into a single pixel. "
   ]
  },
  {
   "cell_type": "markdown",
   "metadata": {
    "hidden": true
   },
   "source": [
    "### NLP\n",
    "\n",
    "- TFIDF: In information retrieval, tf–idf or TFIDF, short for term frequency–inverse document frequency, is a numerical statistic that is intended to reflect how important a word is to a document in a collection or corpus. It is often used as a weighting factor in searches of information retrieval, text mining, and user modeling. The tf–idf value increases proportionally to the number of times a word appears in the document and is offset by the number of documents in the corpus that contain the word, which helps to adjust for the fact that some words appear more frequently in general. tf–idf is one of the most popular term-weighting schemes today; 83% of text-based recommender systems in digital libraries use tf–idf.\n",
    "\n",
    "\n",
    "- Levenshtein distance is a string metric for measuring the difference between two sequences. Informally, the Levenshtein distance between two words is the minimum number of single-character edits (insertions, deletions or substitutions) required to change one word into the other.\n",
    "\n",
    "\n",
    "- A word embedding is a learned representation for text where words that have the same meaning have a similar representation. The position of a word within the vector space is learned from text and is based on the words that surround the word when it is used. The position of a word in the learned vector space is referred to as its embedding. Two popular examples of methods of learning word embeddings from text include: Word2Vec, GloVe."
   ]
  },
  {
   "cell_type": "markdown",
   "metadata": {},
   "source": [
    "## random forest / GBM (gradient boosting machine)\n",
    "\n",
    "- The random forest approach is a bagging method where deep trees, fitted on bootstrap samples, are combined to produce an output with lower variance. However, random forests also use another trick to make the multiple fitted trees a bit less correlated with each others: when growing each tree, instead of only sampling over the observations in the dataset to generate a bootstrap sample, we also sample over features and keep only a random subset of them to build the tree."
   ]
  },
  {
   "cell_type": "markdown",
   "metadata": {},
   "source": [
    "\n",
    "# Languages comparison\n",
    "\n",
    "https://www.geeksforgeeks.org/c-vs-java-vs-python/\n",
    "\n",
    "https://www.javatips.net/blog/c-vs-java-vs-python-a-comparison\n",
    "\n",
    "\n",
    "### Interpreted (python) vs compiled languages (C/Java)\n",
    "\n",
    "The difference between an interpreted and a compiled language lies in the result of the process of interpreting or compiling. An interpreter produces a result from a program, while a compiler produces a program written in assembly language. The assembler of architecture then turns the resulting program into binary code. Assembly language varies for each individual computer, depending upon its architecture. Consequently, compiled programs can only run on computers that have the same architecture as the computer on which they were compiled.\n",
    "\n",
    "### Python: pass by assignment\n",
    "\n",
    "Remember that arguments are passed by assignment in Python. Since assignment just creates references to objects, there’s no alias between an argument name in the caller and callee, and so no call-by-reference per se. You can achieve the desired effect in a number of ways.\n",
    "\n",
    "If you pass a mutable object into a method, the method gets a reference to that same object and you can mutate it to your heart's delight, but if you rebind the reference in the method, the outer scope will know nothing about it, and after you're done, the outer reference will still point at the original object.\n",
    "\n",
    "If you pass an immutable object to a method, you still can't rebind the outer reference, and you can't even mutate the object.\n",
    "\n",
    "### Python: id() \n",
    "\n",
    "This identity has to be unique and constant for this object during the lifetime. Two objects with non-overlapping lifetimes may have the same id() value. If we relate this to C, then they are actually the memory address, here in Python it is the unique id. This function is generally used internally in Python.\n",
    "\n",
    "### Python: memory\n",
    "\n",
    "In Python, memory is managed in a private heap space. This means that all the objects and data structures will be located in a private heap. However, the programmer won’t be allowed to access this heap. Instead, the Python interpreter will handle it. At the same time, the core API will enable access to some Python tools for the programmer to start coding. The memory manager will allocate the heap space for the Python objects while the inbuilt garbage collector will recycle all the memory that’s not being used to boost available heap space. \n",
    "\n",
    "## Python: Mutable vs immutable\n",
    "\n",
    "Common immutable type:\n",
    "- numbers: int(), float(), complex()\n",
    "- immutable sequences: str(), tuple(), frozenset(), bytes()\n",
    "\n",
    "Common mutable type (almost everything else):\n",
    "- mutable sequences: list(), bytearray()\n",
    "- set type: set()\n",
    "- mapping type: dict()\n",
    "- classes, class instances\n",
    "All immutable built-in objects in python are hashable. Mutable containers like lists and dictionaries are not hashable while immutable container tuple is hashable\n",
    "\n",
    "Tuples are smaller. Tuples have structure, lists have order, set are list without order"
   ]
  },
  {
   "cell_type": "markdown",
   "metadata": {},
   "source": [
    "# SQL\n",
    "\n",
    "\n",
    "### What is a primary key?\n",
    "\n",
    "A primary key is a combination of fields which uniquely specify a row. This is a special kind of unique key, and it has implicit NOT NULL constraint. It means, Primary key values cannot be NULL.\n",
    "\n",
    "### What is a unique key?\n",
    "\n",
    "A Unique key constraint uniquely identified each record in the database. This provides uniqueness for the column or set of columns.\n",
    "\n",
    "A Primary key constraint has automatic unique constraint defined on it. But not, in the case of Unique Key.\n",
    "\n",
    "There can be many unique constraint defined per table, but only one Primary key constraint defined per table.\n",
    "\n",
    "### What is a foreign key?\n",
    "\n",
    "A foreign key is one table which can be related to the primary key of another table. Relationship needs to be created between two tables by referencing foreign key with the primary key of another table.\n",
    "e.g Order table with foreign key person_id from table person\n",
    "\n",
    "### What is a constraint?\n",
    "\n",
    "Constraint can be used to specify the limit on the data type of table. Constraint can be specified while creating or altering the table statement. Sample of constraint are.\n",
    "\n",
    "- NOT NULL.\n",
    "- CHECK.\n",
    "- DEFAULT.\n",
    "- UNIQUE.\n",
    "- PRIMARY KEY.\n",
    "- FOREIGN KEY.\n",
    "\n",
    "### Which operator is used in query for pattern matching?\n",
    "\n",
    "LIKE operator is used for pattern matching, and it can be used as -.\n",
    "\n",
    "- % - Matches zero or more characters.\n",
    "- _ – Matching exactly one character.\n",
    "\n",
    "\n",
    "`Select * from Student where studentname like 'a%'`\n",
    "\n",
    "`Select * from Student where studentname like ‘ami_'`\n",
    "\n",
    "### What is Union, minus and Intersect commands?\n",
    "\n",
    "UNION operator is used to combine the results of two tables, and it eliminates duplicate rows from the tables.\n",
    "\n",
    "UNION ALL does not (eliminate duplicates).\n",
    "\n",
    "MINUS/EXEPT operator is used to return rows from the first query but not from the second query. \n",
    "\n",
    "INTERSECT operator is used to return rows returned by both the queries."
   ]
  },
  {
   "cell_type": "code",
   "execution_count": null,
   "metadata": {},
   "outputs": [],
   "source": []
  }
 ],
 "metadata": {
  "kernelspec": {
   "display_name": "Python 3",
   "language": "python",
   "name": "python3"
  },
  "language_info": {
   "codemirror_mode": {
    "name": "ipython",
    "version": 3
   },
   "file_extension": ".py",
   "mimetype": "text/x-python",
   "name": "python",
   "nbconvert_exporter": "python",
   "pygments_lexer": "ipython3",
   "version": "3.7.1"
  }
 },
 "nbformat": 4,
 "nbformat_minor": 2
}
